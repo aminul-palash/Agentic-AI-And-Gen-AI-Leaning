{
 "cells": [
  {
   "cell_type": "markdown",
   "id": "660f9304",
   "metadata": {},
   "source": [
    "## 🤖 Agentic AI with OpenAI Function Calling + Pydantic"
   ]
  },
  {
   "cell_type": "code",
   "execution_count": null,
   "id": "457b1a21",
   "metadata": {},
   "outputs": [
    {
     "name": "stderr",
     "output_type": "stream",
     "text": [
      "C:\\Users\\aminu\\AppData\\Local\\Temp\\ipykernel_10512\\568098759.py:33: PydanticDeprecatedSince20: The `schema` method is deprecated; use `model_json_schema` instead. Deprecated in Pydantic V2.0 to be removed in V3.0. See Pydantic V2 Migration Guide at https://errors.pydantic.dev/2.10/migration/\n",
      "  \"parameters\": ReminderRequest.schema()\n"
     ]
    },
    {
     "name": "stdout",
     "output_type": "stream",
     "text": [
      "🔔 Reminder set: 'Join the team meeting' at 2023-11-02 16:00\n"
     ]
    }
   ],
   "source": [
    "from pydantic import BaseModel, Field\n",
    "from typing import Literal\n",
    "import json, os\n",
    "from dotenv import load_dotenv\n",
    "from openai import OpenAI\n",
    "\n",
    "\n",
    "load_dotenv()\n",
    "api_key = os.getenv(\"OPENAI_API_KEY\")\n",
    "\n",
    "\n",
    "# ✅ Step 1: Define function input models using pydantic\n",
    "class ReminderRequest(BaseModel):\n",
    "    task: str = Field(..., description=\"What to be reminded about\")\n",
    "    time: str = Field(..., description=\"When to remind (e.g., 2025-05-27 20:00)\")\n",
    "\n",
    "# ✅ Step 2: Define your fake reminder function\n",
    "def set_reminder(task: str, time: str):\n",
    "    return f\"Reminder set: '{task}' at {time}\"\n",
    "\n",
    "# ✅ Step 3: Initialize OpenAI client\n",
    "client = OpenAI(api_key = api_key)  # Uses OPENAI_API_KEY from environment\n",
    "\n",
    "# ✅ Step 4: Define the tool (function) for GPT\n",
    "tools = [\n",
    "    {\n",
    "        \"type\": \"function\",\n",
    "        \"function\": {\n",
    "            \"name\": \"set_reminder\",\n",
    "            \"description\": \"Set a task reminder\",\n",
    "            \"parameters\": ReminderRequest.schema()\n",
    "        }\n",
    "    }\n",
    "]\n",
    "\n",
    "# ✅ Step 5: Simulate a user message\n",
    "user_message = \"Remind me to join the team meeting at 4 PM today\"\n",
    "\n",
    "# ✅ Step 6: Send to GPT\n",
    "response = client.chat.completions.create(\n",
    "    model=\"gpt-4o\",\n",
    "    messages=[{\"role\": \"user\", \"content\": user_message}],\n",
    "    tools=tools,\n",
    "    tool_choice=\"auto\"\n",
    ")\n",
    "\n",
    "# ✅ Step 7: Handle tool call (if any)\n",
    "tool_calls = response.choices[0].message.tool_calls\n",
    "\n",
    "if tool_calls:\n",
    "    for call in tool_calls:\n",
    "        func_name = call.function.name\n",
    "        args = json.loads(call.function.arguments)\n",
    "\n",
    "        if func_name == \"set_reminder\":\n",
    "            result = set_reminder(**args)\n",
    "            print(\"🔔\", result)\n",
    "else:\n",
    "    print(\"🤖\", response.choices[0].message.content)\n"
   ]
  },
  {
   "cell_type": "markdown",
   "id": "19787da7",
   "metadata": {},
   "source": [
    "# R&D"
   ]
  },
  {
   "cell_type": "markdown",
   "id": "22dd5a64",
   "metadata": {},
   "source": [
    "## 🤖 Agentic AI with OpenAI Function Calling + Pydantic\n",
    " \n",
    "### This notebook shows how to use **Pydantic** and **OpenAI's Function Calling** to create a simple AI agent that:\n",
    "#### - Understands user intent\n",
    "#### - Chooses the right function (get weather or set a reminder)\n",
    "#### - Validates the parameters before acting"
   ]
  },
  {
   "cell_type": "markdown",
   "id": "0aea8999",
   "metadata": {},
   "source": [
    "### 🔧 Requirements:"
   ]
  },
  {
   "cell_type": "code",
   "execution_count": 7,
   "id": "118deac2",
   "metadata": {},
   "outputs": [
    {
     "name": "stdout",
     "output_type": "stream",
     "text": [
      "Requirement already satisfied: openai in c:\\users\\aminu\\miniconda3\\lib\\site-packages (1.82.0)\n",
      "Requirement already satisfied: pydantic in c:\\users\\aminu\\miniconda3\\lib\\site-packages (2.10.3)\n",
      "Requirement already satisfied: anyio<5,>=3.5.0 in c:\\users\\aminu\\miniconda3\\lib\\site-packages (from openai) (4.7.0)\n",
      "Requirement already satisfied: distro<2,>=1.7.0 in c:\\users\\aminu\\miniconda3\\lib\\site-packages (from openai) (1.9.0)\n",
      "Requirement already satisfied: httpx<1,>=0.23.0 in c:\\users\\aminu\\miniconda3\\lib\\site-packages (from openai) (0.28.1)\n",
      "Requirement already satisfied: jiter<1,>=0.4.0 in c:\\users\\aminu\\miniconda3\\lib\\site-packages (from openai) (0.10.0)\n",
      "Requirement already satisfied: sniffio in c:\\users\\aminu\\miniconda3\\lib\\site-packages (from openai) (1.3.0)\n",
      "Requirement already satisfied: tqdm>4 in c:\\users\\aminu\\miniconda3\\lib\\site-packages (from openai) (4.67.1)\n",
      "Requirement already satisfied: typing-extensions<5,>=4.11 in c:\\users\\aminu\\miniconda3\\lib\\site-packages (from openai) (4.12.2)\n",
      "Requirement already satisfied: annotated-types>=0.6.0 in c:\\users\\aminu\\miniconda3\\lib\\site-packages (from pydantic) (0.6.0)\n",
      "Requirement already satisfied: pydantic-core==2.27.1 in c:\\users\\aminu\\miniconda3\\lib\\site-packages (from pydantic) (2.27.1)\n",
      "Requirement already satisfied: idna>=2.8 in c:\\users\\aminu\\miniconda3\\lib\\site-packages (from anyio<5,>=3.5.0->openai) (3.7)\n",
      "Requirement already satisfied: certifi in c:\\users\\aminu\\miniconda3\\lib\\site-packages (from httpx<1,>=0.23.0->openai) (2025.4.26)\n",
      "Requirement already satisfied: httpcore==1.* in c:\\users\\aminu\\miniconda3\\lib\\site-packages (from httpx<1,>=0.23.0->openai) (1.0.2)\n",
      "Requirement already satisfied: h11<0.15,>=0.13 in c:\\users\\aminu\\miniconda3\\lib\\site-packages (from httpcore==1.*->httpx<1,>=0.23.0->openai) (0.14.0)\n",
      "Requirement already satisfied: colorama in c:\\users\\aminu\\miniconda3\\lib\\site-packages (from tqdm>4->openai) (0.4.6)\n"
     ]
    }
   ],
   "source": [
    "!pip install openai pydantic "
   ]
  },
  {
   "cell_type": "code",
   "execution_count": 15,
   "id": "f0a8ec3d",
   "metadata": {},
   "outputs": [
    {
     "data": {
      "text/plain": [
       "True"
      ]
     },
     "execution_count": 15,
     "metadata": {},
     "output_type": "execute_result"
    }
   ],
   "source": [
    "from pydantic import BaseModel, Field\n",
    "from typing import Literal\n",
    "import json\n",
    "from dotenv import load_dotenv\n",
    "from openai import OpenAI\n",
    "\n",
    "api_key = os.getenv(\"OPENAI_API_KEY\")\n",
    "\n",
    "client = OpenAI(api_key = api_key)\n",
    "\n",
    "load_dotenv()\n"
   ]
  },
  {
   "cell_type": "code",
   "execution_count": null,
   "id": "3f826497",
   "metadata": {},
   "outputs": [],
   "source": []
  },
  {
   "cell_type": "code",
   "execution_count": 16,
   "id": "5feaea06",
   "metadata": {},
   "outputs": [],
   "source": [
    "# ✅ Step 1: Define Function Schemas using Pydantic\n",
    "\n",
    "class WeatherRequest(BaseModel):\n",
    "    city: str = Field(..., description=\"City to get weather for\")\n",
    "\n",
    "class ReminderRequest(BaseModel):\n",
    "    task: str = Field(..., description=\"What to be reminded about\")\n",
    "    time: str = Field(..., description=\"When to remind (e.g., 2025-05-27 20:00)\")\n",
    "\n",
    "# ✅ Purpose:\n",
    "# This model defines the data structure for a weather query request.\n",
    "\n",
    "# ✅ Fields:\n",
    "# city: A required string field (due to ...) with a description to indicate that it's the name of the city for which the weather is requested."
   ]
  },
  {
   "cell_type": "code",
   "execution_count": 17,
   "id": "3faebfd7",
   "metadata": {},
   "outputs": [],
   "source": [
    "# ✅ Step 2: Define Available Functions for OpenAI\n",
    "\n",
    "functions = [\n",
    "    {\n",
    "        \"name\": \"get_weather\",\n",
    "        \"description\": \"Get weather for a city\",\n",
    "        \"parameters\": WeatherRequest.model_json_schema()\n",
    "    },\n",
    "    {\n",
    "        \"name\": \"set_reminder\",\n",
    "        \"description\": \"Set a task reminder\",\n",
    "        \"parameters\": ReminderRequest.model_json_schema()\n",
    "    }\n",
    "]"
   ]
  },
  {
   "cell_type": "code",
   "execution_count": 18,
   "id": "e1771cb8",
   "metadata": {},
   "outputs": [],
   "source": [
    "# ✅ Step 3: Simulate User Input\n",
    "\n",
    "user_message = \"Remind me to call mom at 8 PM tonight\""
   ]
  },
  {
   "cell_type": "code",
   "execution_count": 21,
   "id": "2a70b1e5",
   "metadata": {},
   "outputs": [],
   "source": [
    "# ✅ Step 4: Send Message to OpenAI with Function Calling\n",
    "\n",
    "response = client.chat.completions.create(\n",
    "    model=\"gpt-4o\",  # Or another model like gpt-4o or gpt-4-turbo\n",
    "    messages=[\n",
    "        {\"role\": \"user\", \"content\": user_message}\n",
    "    ],\n",
    "    functions=functions,\n",
    "    function_call=\"auto\"\n",
    ")"
   ]
  },
  {
   "cell_type": "code",
   "execution_count": 30,
   "id": "40f5ae98",
   "metadata": {},
   "outputs": [
    {
     "data": {
      "text/plain": [
       "ChatCompletion(id='chatcmpl-Bbq3XXoT1a0X6Ul3fxKRuqmxPz41T', choices=[Choice(finish_reason='function_call', index=0, logprobs=None, message=ChatCompletionMessage(content=None, refusal=None, role='assistant', annotations=[], audio=None, function_call=FunctionCall(arguments='{\"task\":\"call mom\",\"time\":\"2023-10-06 20:00:00\"}', name='set_reminder'), tool_calls=None))], created=1748357939, model='gpt-4o-2024-08-06', object='chat.completion', service_tier='default', system_fingerprint='fp_9bddfca6e2', usage=CompletionUsage(completion_tokens=31, prompt_tokens=128, total_tokens=159, completion_tokens_details=CompletionTokensDetails(accepted_prediction_tokens=0, audio_tokens=0, reasoning_tokens=0, rejected_prediction_tokens=0), prompt_tokens_details=PromptTokensDetails(audio_tokens=0, cached_tokens=0)))"
      ]
     },
     "execution_count": 30,
     "metadata": {},
     "output_type": "execute_result"
    }
   ],
   "source": [
    "response"
   ]
  },
  {
   "cell_type": "code",
   "execution_count": 32,
   "id": "c167d25f",
   "metadata": {},
   "outputs": [
    {
     "name": "stdout",
     "output_type": "stream",
     "text": [
      "Response function_call: FunctionCall(arguments='{\"task\":\"call mom\",\"time\":\"2023-10-06 20:00:00\"}', name='set_reminder')\n"
     ]
    }
   ],
   "source": [
    "function_call = response.choices[0].message.function_call\n",
    "print(\"Response function_call:\", function_call)"
   ]
  },
  {
   "cell_type": "code",
   "execution_count": 36,
   "id": "37cd640f",
   "metadata": {},
   "outputs": [
    {
     "name": "stdout",
     "output_type": "stream",
     "text": [
      "Function name: set_reminder\n",
      "Task: call mom\n",
      "Time: 2023-10-06 20:00:00\n"
     ]
    }
   ],
   "source": [
    "# Get the function name\n",
    "name = function_call.name\n",
    "\n",
    "# Parse the arguments JSON string to a Python dict\n",
    "args = json.loads(function_call.arguments)\n",
    "\n",
    "# Get task and time\n",
    "task = args[\"task\"]\n",
    "time = args[\"time\"]\n",
    "\n",
    "print(\"Function name:\", name)\n",
    "print(\"Task:\", task)\n",
    "print(\"Time:\", time)"
   ]
  },
  {
   "cell_type": "code",
   "execution_count": null,
   "id": "342a3018",
   "metadata": {},
   "outputs": [
    {
     "data": {
      "text/plain": [
       "'{\"task\":\"call mom\",\"time\":\"2023-10-06 20:00:00\"}'"
      ]
     },
     "execution_count": 35,
     "metadata": {},
     "output_type": "execute_result"
    }
   ],
   "source": []
  },
  {
   "cell_type": "code",
   "execution_count": 41,
   "id": "bf9e6d23",
   "metadata": {},
   "outputs": [
    {
     "name": "stdout",
     "output_type": "stream",
     "text": [
      "🔍 Function to call: set_reminder\n",
      "🧾 Arguments: {\"task\":\"call mom\",\"time\":\"2023-10-06 20:00:00\"}\n",
      "✅ Reminder Task: call mom\n",
      "⏰ Reminder Time: 2023-10-06 20:00:00\n"
     ]
    }
   ],
   "source": [
    "# ✅ Step 5: Parse Function Call from Response\n",
    "\n",
    "func_call = response.choices[0].message.function_call\n",
    "\n",
    "if func_call:\n",
    "    print(f\"🔍 Function to call: {func_call.name}\")\n",
    "    print(f\"🧾 Arguments: {func_call.arguments}\")\n",
    "\n",
    "    args_dict = json.loads(function_call.arguments)\n",
    "\n",
    "    if func_call.name == \"set_reminder\":\n",
    "        try:\n",
    "            args = ReminderRequest.model_validate(args_dict)\n",
    "            print(f\"✅ Reminder Task: {args.task}\")\n",
    "            print(f\"⏰ Reminder Time: {args.time}\")\n",
    "            # Here you can invoke your own reminder setting logic\n",
    "        except Exception as e:\n",
    "            print(f\"❌ Invalid reminder arguments: {e}\")\n",
    "\n",
    "    elif func_call.name == \"get_weather\":\n",
    "        try:\n",
    "            args = WeatherRequest.model_validate(args_dict)\n",
    "            print(f\"🌤️ Fetching weather for: {args.city}\")\n",
    "            # Here you can invoke your own weather-fetching logic\n",
    "        except Exception as e:\n",
    "            print(f\"❌ Invalid weather arguments: {e}\")\n",
    "else:\n",
    "    print(\"🤖 No function call was made.\")"
   ]
  },
  {
   "cell_type": "code",
   "execution_count": 43,
   "id": "1c600200",
   "metadata": {},
   "outputs": [
    {
     "name": "stdout",
     "output_type": "stream",
     "text": [
      "{'properties': {'task': {'description': 'What to be reminded about', 'title': 'Task', 'type': 'string'}, 'time': {'description': 'When to remind (e.g., 2025-05-27 20:00)', 'title': 'Time', 'type': 'string'}}, 'required': ['task', 'time'], 'title': 'ReminderRequest', 'type': 'object'}\n"
     ]
    }
   ],
   "source": [
    "print(ReminderRequest.model_json_schema())"
   ]
  },
  {
   "cell_type": "code",
   "execution_count": null,
   "id": "a289b15a",
   "metadata": {},
   "outputs": [],
   "source": []
  }
 ],
 "metadata": {
  "kernelspec": {
   "display_name": "base",
   "language": "python",
   "name": "python3"
  },
  "language_info": {
   "codemirror_mode": {
    "name": "ipython",
    "version": 3
   },
   "file_extension": ".py",
   "mimetype": "text/x-python",
   "name": "python",
   "nbconvert_exporter": "python",
   "pygments_lexer": "ipython3",
   "version": "3.13.2"
  }
 },
 "nbformat": 4,
 "nbformat_minor": 5
}
